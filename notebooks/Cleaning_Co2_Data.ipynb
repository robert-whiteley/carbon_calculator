{
 "cells": [
  {
   "cell_type": "code",
   "execution_count": 2,
   "id": "f7ca7773-7baa-4d6f-b214-53ab037b1a89",
   "metadata": {},
   "outputs": [],
   "source": [
    "import pandas as pd\n"
   ]
  },
  {
   "cell_type": "code",
   "execution_count": 3,
   "id": "e593f0e4-ac10-43c1-bda7-41d15af63c8b",
   "metadata": {},
   "outputs": [],
   "source": [
    "temp = pd.read_excel('raw_data/SuEatableLife_Food_Fooprint_database.xlsx', sheet_name=1, header=0)\n",
    "suffer = pd.read_excel('raw_data/SuEatableLife_Food_Fooprint_database.xlsx', sheet_name=6, header=0)\n"
   ]
  },
  {
   "cell_type": "code",
   "execution_count": 4,
   "id": "e70097a8-cb5a-48c7-a950-13a131882dfd",
   "metadata": {},
   "outputs": [
    {
     "data": {
      "text/plain": [
       "<bound method NDFrame.head of        FOOD COMMODITY GROUP                  Food commodity ITEM  \\\n",
       "0    AGRICULTURAL PROCESSED                          BEER IN CAN   \n",
       "1    AGRICULTURAL PROCESSED                        BEER IN GLASS   \n",
       "2    AGRICULTURAL PROCESSED                     BEER MODULAR CAN   \n",
       "3    AGRICULTURAL PROCESSED  CHOCOLATE OR CREAM FILLED COOKIES**   \n",
       "4    AGRICULTURAL PROCESSED                     SIMPLE COOKIES**   \n",
       "..                      ...                                  ...   \n",
       "319                 FISHING                              OCTOPUS   \n",
       "320                 FISHING                                SQUID   \n",
       "321                 FISHING                       PRAWNS/SHRIMPS   \n",
       "322                 FISHING                          OCTOPUS (F)   \n",
       "323                 FISHING                   PRAWNS/SHRIMPS (F)   \n",
       "\n",
       "     Carbon Footprint kg CO2eq/kg or l of food ITEM  \\\n",
       "0                                          0.693000   \n",
       "1                                          0.960500   \n",
       "2                                          0.530600   \n",
       "3                                          1.533000   \n",
       "4                                          1.390750   \n",
       "..                                              ...   \n",
       "319                                        5.800000   \n",
       "320                                        6.910000   \n",
       "321                                        7.040000   \n",
       "322                                        7.878611   \n",
       "323                                       15.065000   \n",
       "\n",
       "    Uncertainty    low (L) high (H)          Suggested CF value  \\\n",
       "0                                 L                     OK item   \n",
       "1                                 L                     OK item   \n",
       "2                                 L                     OK item   \n",
       "3                                 L                     OK item   \n",
       "4                                 L                     OK item   \n",
       "..                              ...                         ...   \n",
       "319                               H  better typol. or subtypol.   \n",
       "320                               H  better typol. or subtypol.   \n",
       "321                               L                     OK item   \n",
       "322                               H             better typology   \n",
       "323                               L                     OK item   \n",
       "\n",
       "    Food commodity TYPOLOGY  Carbon Footprint g CO2eq/g o cc of food TYPOLOGY  \\\n",
       "0                      BEER                                              0.69   \n",
       "1                      BEER                                              0.69   \n",
       "2                      BEER                                              0.69   \n",
       "3                  BISCUITS                                              1.47   \n",
       "4                  BISCUITS                                              1.47   \n",
       "..                      ...                                               ...   \n",
       "319               SHELLFISH                                              5.67   \n",
       "320               SHELLFISH                                              5.67   \n",
       "321               SHELLFISH                                              5.67   \n",
       "322        SHELLFISH FROZEN                                             11.47   \n",
       "323        SHELLFISH FROZEN                                             11.47   \n",
       "\n",
       "                Food commodity sub-TYPOLOGY  \\\n",
       "0                                         -   \n",
       "1                                         -   \n",
       "2                                         -   \n",
       "3                                         -   \n",
       "4                                         -   \n",
       "..                                      ...   \n",
       "319                    CEPHALOPOD (SUB-TYP)   \n",
       "320                    CEPHALOPOD (SUB-TYP)   \n",
       "321  CRUSTACEAN* (SUB-TYP) (Prawns/Shrimps)   \n",
       "322                                       -   \n",
       "323                                       -   \n",
       "\n",
       "    Carbon Footprint g CO2eq/g o cc of food sub-TYPOLOGY  \n",
       "0                                                    -    \n",
       "1                                                    -    \n",
       "2                                                    -    \n",
       "3                                                    -    \n",
       "4                                                    -    \n",
       "..                                                 ...    \n",
       "319                                                5.8    \n",
       "320                                                5.8    \n",
       "321                                               7.04    \n",
       "322                                                  -    \n",
       "323                                                  -    \n",
       "\n",
       "[324 rows x 9 columns]>"
      ]
     },
     "execution_count": 4,
     "metadata": {},
     "output_type": "execute_result"
    }
   ],
   "source": [
    "temp['FOOD COMMODITY GROUP'].unique()\n",
    "temp.head"
   ]
  },
  {
   "cell_type": "code",
   "execution_count": 9,
   "id": "97be9a62-530d-42e9-aaa4-920938ca8a5f",
   "metadata": {},
   "outputs": [],
   "source": [
    "pain = temp.loc[temp['FOOD COMMODITY GROUP'] == 'FISHING']\n",
    "\n",
    "\n",
    "\n",
    "CO2 = temp.sort_values(by= 'Carbon Footprint kg CO2eq/kg or l of food ITEM',ascending=False).iloc[:,0:3]"
   ]
  },
  {
   "cell_type": "code",
   "execution_count": 22,
   "id": "f26731ac-26e5-448b-bc9c-c8e809be5526",
   "metadata": {},
   "outputs": [
    {
     "data": {
      "text/html": [
       "<div>\n",
       "<style scoped>\n",
       "    .dataframe tbody tr th:only-of-type {\n",
       "        vertical-align: middle;\n",
       "    }\n",
       "\n",
       "    .dataframe tbody tr th {\n",
       "        vertical-align: top;\n",
       "    }\n",
       "\n",
       "    .dataframe thead th {\n",
       "        text-align: right;\n",
       "    }\n",
       "</style>\n",
       "<table border=\"1\" class=\"dataframe\">\n",
       "  <thead>\n",
       "    <tr style=\"text-align: right;\">\n",
       "      <th></th>\n",
       "      <th>FOOD COMMODITY GROUP</th>\n",
       "      <th>Food commodity ITEM</th>\n",
       "      <th>Water Footprint liters water/kg o liter of food ITEM</th>\n",
       "    </tr>\n",
       "  </thead>\n",
       "  <tbody>\n",
       "  </tbody>\n",
       "</table>\n",
       "</div>"
      ],
      "text/plain": [
       "Empty DataFrame\n",
       "Columns: [FOOD COMMODITY GROUP, Food commodity ITEM, Water Footprint liters water/kg o liter of food ITEM]\n",
       "Index: []"
      ]
     },
     "execution_count": 22,
     "metadata": {},
     "output_type": "execute_result"
    }
   ],
   "source": [
    "water.loc[water['Food commodity ITEM'] == 'R']\n"
   ]
  },
  {
   "cell_type": "code",
   "execution_count": 11,
   "id": "3d965f95-7235-461e-bb76-15058115297c",
   "metadata": {},
   "outputs": [],
   "source": [
    "water = suffer.sort_values(by= 'Water Footprint liters water/kg o liter of food ITEM',ascending=False).iloc[:,0:3]"
   ]
  },
  {
   "cell_type": "code",
   "execution_count": 12,
   "id": "215d308e-97fa-4839-ade0-87845f512d90",
   "metadata": {},
   "outputs": [],
   "source": [
    "CO2.to_csv('raw_data/CO2_values')"
   ]
  },
  {
   "cell_type": "code",
   "execution_count": 13,
   "id": "9c25f561-a865-4dcf-8b5c-8ce35f403758",
   "metadata": {},
   "outputs": [],
   "source": [
    "water.to_csv('raw_data/water_values')"
   ]
  },
  {
   "cell_type": "code",
   "execution_count": null,
   "id": "3f491789-0728-41fa-8ea0-49d08fe12207",
   "metadata": {},
   "outputs": [],
   "source": []
  }
 ],
 "metadata": {
  "kernelspec": {
   "display_name": "Python 3 (ipykernel)",
   "language": "python",
   "name": "python3"
  },
  "language_info": {
   "codemirror_mode": {
    "name": "ipython",
    "version": 3
   },
   "file_extension": ".py",
   "mimetype": "text/x-python",
   "name": "python",
   "nbconvert_exporter": "python",
   "pygments_lexer": "ipython3",
   "version": "3.10.6"
  }
 },
 "nbformat": 4,
 "nbformat_minor": 5
}
